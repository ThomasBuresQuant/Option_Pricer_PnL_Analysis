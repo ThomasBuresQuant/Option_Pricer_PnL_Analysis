{
 "cells": [
  {
   "cell_type": "code",
   "execution_count": 1,
   "id": "3bfcca39-0e15-45af-9c51-1a10c4fcabe2",
   "metadata": {},
   "outputs": [],
   "source": [
    "import numpy as np\n",
    "import pandas as pd\n",
    "import matplotlib.pyplot as plt\n",
    "from scipy.stats import norm\n",
    "from datetime import datetime, timedelta"
   ]
  },
  {
   "cell_type": "code",
   "execution_count": 2,
   "id": "fb294942-2bc9-4790-9689-becabfc62c21",
   "metadata": {},
   "outputs": [],
   "source": [
    "class BSM_Pricer:\n",
    "    def __init__(self,S,K,r,T,q,vol):\n",
    "        self.S, self.K, self.T, self.r, self.q, self.vol = S, K, T, r, q, vol\n",
    "\n",
    "    def Dr_Dq_F(self):\n",
    "        S, K, T, r, q, vol = self.S, self.K, self.T, self.r, self.q, self.vol\n",
    "        self.Dr=np.exp(-r*T)\n",
    "        self.Dq=np.exp(-q*T)\n",
    "        self.F = S*np.exp(r)\n",
    "        return self.Dr, self.Dq, self.F\n",
    "\n",
    "    def d1_d2(self):\n",
    "        S, K, T, r, q, vol = self.S, self.K, self.T, self.r, self.q, self.vol\n",
    "        self.d1=(np.log(S/K)+(r-q+0.5*vol**2)*T)/(vol*np.sqrt(T))\n",
    "        self.d2=self.d1-vol*np.sqrt(T)\n",
    "\n",
    "        if self.d2-self.d1-vol*np.sqrt(T)<1e-10:\n",
    "            print('The formulas for d2 and d1 are correct.')\n",
    "        else:\n",
    "            print('The formulas for d2 and d1 are incorrect.')  \n",
    "        return self.d1, self.d2\n",
    "\n",
    "    def Underlying_BSM(self):\n",
    "        S, K, T, r, q, vol = self.S, self.K, self.T, self.r, self.q, self.vol\n",
    "        Z=np.random.normal(0,1)\n",
    "        self.St = S*np.exp((r-q-0.5*vol**2)*T+vol*np.sqrt(T)*Z)\n",
    "        return self.St\n",
    "\n",
    "    def call_put(self):\n",
    "        S, K, T, r, q, vol = self.S, self.K, self.T, self.r, self.q, self.vol\n",
    "        N=norm.cdf\n",
    "\n",
    "        if not hasattr(self, \"Dq\") or not hasattr(self, \"Dr\"):\n",
    "            self.Dr_Dq_F()\n",
    "        if not hasattr(self, \"d1\") or not hasattr(self, \"d2\"):\n",
    "            self.d1_d2()\n",
    "            \n",
    "        self.call=S*self.Dq*N(self.d1)-K*self.Dr*N(self.d2)\n",
    "        self.put=K*self.Dr*N(-self.d2)-S*self.Dq*N(-self.d1)\n",
    "\n",
    "        if (self.call-self.put)-(S*self.Dq-K*self.Dr)<1e-10:\n",
    "            print('The put call parity is respected.')\n",
    "        else:\n",
    "            print('The put call parity is violated.')\n",
    "        return self.call,self.put\n",
    "\n",
    "    def greeks(self):\n",
    "        S, K, T, r, q, vol = self.S, self.K, self.T, self.r, self.q, self.vol\n",
    "        phi=norm.pdf\n",
    "        N=norm.cdf\n",
    "\n",
    "        if not hasattr(self, \"Dq\") or not hasattr(self, \"Dr\"):\n",
    "            self.Dr_Dq_F()\n",
    "        if not hasattr(self, \"d1\") or not hasattr(self, \"d2\"):\n",
    "            self.d1_d2()        \n",
    "        \n",
    "        self.delta_c=self.Dq*N(self.d1)\n",
    "        self.delta_p=self.Dq*(N(self.d1)-1)\n",
    "        self.gamma=(self.Dq*phi(self.d1))/(S*vol*np.sqrt(T))\n",
    "        self.vega=S*self.Dq*phi(self.d1)*np.sqrt(T)\n",
    "        self.theta_c=-((S*self.Dq*phi(self.d1)*vol)/(2*np.sqrt(T)))-r*K*self.Dr*N(self.d2)+q*S*self.Dq*N(self.d1)\n",
    "        self.theta_p=-((S*self.Dq*phi(self.d1)*vol)/(2*np.sqrt(T)))+r*K*self.Dr*N(-self.d2)-q*S*self.Dq*N(-self.d1)\n",
    "        self.rho_c=K*T*self.Dr*N(self.d2)\n",
    "        self.rho_p=-K*T*self.Dr*N(-self.d2)\n",
    "        self.dividend_rho_c=-T*S*self.Dq*N(self.d1)\n",
    "        self.dividend_rho_p=T*S*self.Dq*N(-self.d1)\n",
    "        return self.delta_c,self.delta_p,self.gamma,self.vega,self.theta_c,self.theta_p,self.rho_c,self.rho_p,self.dividend_rho_c,self.dividend_rho_p\n",
    "\n",
    "    def run():\n",
    "        self.Dr_Dq_F()\n",
    "        self.d1_d2()\n",
    "        self.Underlying_BSM()\n",
    "        self.call_put()\n",
    "        self.greeks()\n"
   ]
  },
  {
   "cell_type": "code",
   "execution_count": 3,
   "id": "ef117d8e-702a-47cd-975c-f305c1fa8eed",
   "metadata": {},
   "outputs": [
    {
     "name": "stdout",
     "output_type": "stream",
     "text": [
      "The formulas for d2 and d1 are correct.\n",
      "The put call parity is respected.\n",
      "The futur price of the underlying is 104.34$ !\n",
      "The value of the call is 6.04 and the value of the put is 10.68 !\n",
      "The greeks value for delta_c,delta_p,gamma,vega,theta_c,theta_p,rho_c,rho_p,dividend_rho_c,dividend_rho_p are 0.45, -0.55, 0.02, 39.58, -5.9, -0.67, 38.92, -65.71, -44.96, 55.04 !\n"
     ]
    }
   ],
   "source": [
    "result = BSM_Pricer(100, 110, 0.05, 1, 0, 0.2)\n",
    "result.Dr_Dq_F()\n",
    "result.d1_d2()\n",
    "result.Underlying_BSM()\n",
    "result.call_put()\n",
    "result.greeks()\n",
    "\n",
    "print('The futur price of the underlying is {}$ !'.format(round(result.St,2)))\n",
    "print('The value of the call is {} and the value of the put is {} !'.format(round(result.call,2),round(result.put,2)))\n",
    "print('The greeks value for delta_c,delta_p,gamma,vega,theta_c,theta_p,rho_c,rho_p,dividend_rho_c,dividend_rho_p are {}, {}, {}, {}, {}, {}, {}, {}, {}, {} !'.format(round(result.delta_c,2),round(result.delta_p,2),round(result.gamma,2),round(result.vega,2),round(result.theta_c,2),round(result.theta_p,2),round(result.rho_c,2),round(result.rho_p,2),round(result.dividend_rho_c,2),round(result.dividend_rho_p,2)))"
   ]
  },
  {
   "cell_type": "code",
   "execution_count": 50,
   "id": "baa3b97a-b816-4f77-99e8-2cfb85dc1ed1",
   "metadata": {},
   "outputs": [
    {
     "name": "stdout",
     "output_type": "stream",
     "text": [
      "The formulas for d2 and d1 are correct.\n",
      "The put call parity is respected.\n",
      "The formulas for d2 and d1 are correct.\n",
      "The put call parity is respected.\n",
      "The futur price of the underlying is 103.12$ !\n",
      "The value of the call is 1.2 and the value of the put is 2.84 !\n",
      "The greeks value for delta_c,delta_p,gamma,vega,theta_c,theta_p,rho_c,rho_p,dividend_rho_c,dividend_rho_p are 0.37, -0.63, 0.08, 8.55, -26.0, -0.59, 1.88, -3.4, -1.95, 3.25 !\n",
      "The formulas for d2 and d1 are correct.\n",
      "The put call parity is respected.\n",
      "The futur price of the underlying is 109.97$ !\n",
      "The value of the call is 3.43 and the value of the put is 0.8 !\n",
      "The greeks value for delta_c,delta_p,gamma,vega,theta_c,theta_p,rho_c,rho_p,dividend_rho_c,dividend_rho_p are 0.73, -0.27, 0.07, 8.12, -33.64, -5.32, 4.02, -1.64, -4.22, 1.6 !\n"
     ]
    }
   ],
   "source": [
    "portfolio_0 = BSM_Pricer(100, 101, 0.275, 0.055, 0, 0.2)\n",
    "portfolio_0.Underlying_BSM()\n",
    "portfolio_0.call_put()\n",
    "portfolio_0.greeks()\n",
    "\n",
    "portfolio = [BSM_Pricer(98, 101, 0.255, 0.053, 0, 0.21),\n",
    "    BSM_Pricer(102, 101, 0.285, 0.057, 0, 0.19)\n",
    "]\n",
    "for option in portfolio:\n",
    "    option.Underlying_BSM()\n",
    "    option.call_put()\n",
    "    option.greeks()\n",
    "    print('The futur price of the underlying is {}$ !'.format(round(option.St,2)))\n",
    "    print('The value of the call is {} and the value of the put is {} !'.format(round(option.call,2),round(option.put,2)))\n",
    "    print('The greeks value for delta_c,delta_p,gamma,vega,theta_c,theta_p,rho_c,rho_p,dividend_rho_c,dividend_rho_p are {}, {}, {}, {}, {}, {}, {}, {}, {}, {} !'.format(round(option.delta_c,2),round(option.delta_p,2),round(option.gamma,2),round(option.vega,2),round(option.theta_c,2),round(option.theta_p,2),round(option.rho_c,2),round(option.rho_p,2),round(option.dividend_rho_c,2),round(option.dividend_rho_p,2)))"
   ]
  },
  {
   "cell_type": "code",
   "execution_count": 52,
   "id": "0a8c8cc7-d959-48f3-be5f-6b999f6cf546",
   "metadata": {},
   "outputs": [],
   "source": [
    "class greeks_effect:\n",
    "    def __init__ (self,option,portfolio_0):\n",
    "        self.dS = option.S - portfolio_0.S\n",
    "        self.dvol = option.vol - portfolio_0.vol\n",
    "        self.dT = option.T - portfolio_0.T\n",
    "        self.dr = option.r - portfolio_0.r\n",
    "        self.dcall = option.call - portfolio_0.call\n",
    "        \n",
    "        self.delta_c = portfolio_0.delta_c\n",
    "        self.gamma = portfolio_0.gamma\n",
    "        self.vega = portfolio_0.vega\n",
    "        self.theta_c = portfolio_0.theta_c\n",
    "        self.rho_c = portfolio_0.rho_c\n",
    "\n",
    "    def d_option(self):\n",
    "        self.dV_call_predict = self.delta_c*self.dS + (1/2)*self.gamma*(self.dS**2)+self.vega*self.dvol+self.theta_c*self.dT+self.rho_c*self.dr\n",
    "        self.dV_call_reel = self.dcall\n",
    "        return self.dV_call_predict, self.dV_call_reel"
   ]
  },
  {
   "cell_type": "code",
   "execution_count": 73,
   "id": "4ea0683d-28f9-4b73-8866-c0c806f9b13b",
   "metadata": {},
   "outputs": [
    {
     "name": "stdout",
     "output_type": "stream",
     "text": [
      "The predicted change in price is -0.841 and the acutal change in price is -0.94.\n",
      "The % of error from the model is : -11.2%\n",
      "The predicted change in price is 1.149 and the acutal change in price is 1.293.\n",
      "The % of error from the model is : -11.2%\n",
      "The maximum error of the model is : nan\n"
     ]
    }
   ],
   "source": [
    "results = []\n",
    "\n",
    "for option in portfolio:\n",
    "    greeks_effect_result=greeks_effect(option,portfolio_0)\n",
    "    greeks_effect_result.d_option()\n",
    "    print('The predicted change in price is {} and the acutal change in price is {}.'.format(round(greeks_effect_result.dV_call_predict,3),round(greeks_effect_result.dV_call_reel,3)))\n",
    "    \n",
    "    results.append([option.S,\n",
    "        greeks_effect_result.dV_call_predict,\n",
    "        greeks_effect_result.dV_call_reel\n",
    "    ])\n",
    "    \n",
    "    df_model=pd.DataFrame(result, columns=['S','dV_call_predict','dV_call_reel'])\n",
    "    df_model['error'] = (abs((greeks_effect_result.dV_call_predict - greeks_effect_result.dV_call_reel))/abs(greeks_effect_result.dV_call_reel))*100\n",
    "    print('The % of error from the model is : {}%'.format(round(Error,2)))\n",
    "\n",
    "max_error = df_model['error'].mean()\n",
    "print('The maximum error of the model is : {}'.format(max_error))"
   ]
  },
  {
   "cell_type": "code",
   "execution_count": 1,
   "id": "9ab67ff5-aa23-49cb-9f90-ea08ab542e14",
   "metadata": {},
   "outputs": [],
   "source": [
    "# mean_error = df_model['error'].mean(skipna=True)\n",
    "# max_error = df_model['error'].max(skipna=True)\n",
    "\n",
    "# print(f\"\\nAverage error = {mean_error:.2f}%\")\n",
    "# print(f\"Maximum error = {max_error:.2f}%\")"
   ]
  },
  {
   "cell_type": "code",
   "execution_count": null,
   "id": "055dbc1e-04ba-42b6-aa9b-a61d1a0484eb",
   "metadata": {},
   "outputs": [],
   "source": []
  },
  {
   "cell_type": "code",
   "execution_count": null,
   "id": "7beb2dd0-4ae5-42e9-ade1-558b371f3f26",
   "metadata": {},
   "outputs": [],
   "source": []
  },
  {
   "cell_type": "code",
   "execution_count": null,
   "id": "41f77049-242e-43a3-ac8f-de6e541dd47e",
   "metadata": {},
   "outputs": [],
   "source": []
  }
 ],
 "metadata": {
  "kernelspec": {
   "display_name": "anaconda-2024.02-py310",
   "language": "python",
   "name": "conda-env-anaconda-2024.02-py310-py"
  },
  "language_info": {
   "codemirror_mode": {
    "name": "ipython",
    "version": 3
   },
   "file_extension": ".py",
   "mimetype": "text/x-python",
   "name": "python",
   "nbconvert_exporter": "python",
   "pygments_lexer": "ipython3",
   "version": "3.10.14"
  }
 },
 "nbformat": 4,
 "nbformat_minor": 5
}
