{
 "cells": [
  {
   "cell_type": "code",
   "execution_count": 6,
   "id": "2765a867-1169-431e-9d0f-185f5e3c2b8b",
   "metadata": {},
   "outputs": [],
   "source": [
    "import numpy as np\n",
    "import pandas as pd\n",
    "import matplotlib.pyplot as plt\n",
    "from scipy.stats import norm\n",
    "from datetime import datetime, timedelta"
   ]
  },
  {
   "cell_type": "code",
   "execution_count": 4,
   "id": "e87ef5a8-435b-43e3-be95-86245d69f914",
   "metadata": {},
   "outputs": [],
   "source": [
    "#S = float(input('The actual price is:'))\n",
    "S= 100\n",
    "K = 110\n",
    "T = 1\n",
    "r = 0.05\n",
    "q = 0\n",
    "vol = 0.2"
   ]
  },
  {
   "cell_type": "code",
   "execution_count": 3,
   "id": "f3cab776-cbbc-42c0-9400-dfb790b3b5c0",
   "metadata": {},
   "outputs": [
    {
     "name": "stdout",
     "output_type": "stream",
     "text": [
      "The forward price is: 105.13$\n"
     ]
    }
   ],
   "source": [
    "def F(S,r):\n",
    "    F = S*np.exp(r)\n",
    "    return F\n",
    "print('The forward price is: {}$'.format(round(F(S,r),2)))"
   ]
  },
  {
   "cell_type": "code",
   "execution_count": 4,
   "id": "2c0f0027-3948-414f-8438-087d0841b7ad",
   "metadata": {},
   "outputs": [
    {
     "name": "stdout",
     "output_type": "stream",
     "text": [
      "0.951229424500714 1.0\n"
     ]
    }
   ],
   "source": [
    "def Dr(r,T):\n",
    "    Dr=np.exp(-r*T)\n",
    "    return Dr\n",
    "\n",
    "def Dq(q,T):\n",
    "    Dq=np.exp(-q*T)\n",
    "    return(Dq)\n",
    "\n",
    "Dr=Dr(r,T)\n",
    "Dq=Dq(q,T)\n",
    "print(Dr,Dq)"
   ]
  },
  {
   "cell_type": "code",
   "execution_count": 7,
   "id": "d62aaef6-30d7-49fc-bc20-47bd25c79607",
   "metadata": {},
   "outputs": [
    {
     "name": "stdout",
     "output_type": "stream",
     "text": [
      "87.67717758174372\n"
     ]
    }
   ],
   "source": [
    "def BSM(S,r,q,vol,T):\n",
    "    Z=np.random.normal(0,1)\n",
    "    St = S*np.exp((r-q-0.5*vol**2)*T+vol*np.sqrt(T)*Z)\n",
    "    return St\n",
    "\n",
    "St=BSM(S,r,q,vol,T)\n",
    "print(St)"
   ]
  },
  {
   "cell_type": "code",
   "execution_count": 6,
   "id": "4992ad43-7d37-431c-a9e2-7f933dff2300",
   "metadata": {},
   "outputs": [
    {
     "name": "stdout",
     "output_type": "stream",
     "text": [
      "-0.12655089902162442 -0.32655089902162443\n",
      "The formula is correct\n"
     ]
    }
   ],
   "source": [
    "def d1_d2(S,K,r,q,vol,T):\n",
    "    d1=(np.log(S/K)+(r-q+0.5*vol**2)*T)/(vol*np.sqrt(T))\n",
    "    d2=d1-vol*np.sqrt(T)\n",
    "    return d1, d2\n",
    "\n",
    "d1, d2 = d1_d2(S,K,r,q,vol,T)\n",
    "print(d1, d2)\n",
    "\n",
    "if d2-d1-vol*np.sqrt(T)<1e-10:\n",
    "    print('The formula is correct')\n",
    "else:\n",
    "    print('The formula seems incorrect')"
   ]
  },
  {
   "cell_type": "code",
   "execution_count": 7,
   "id": "ebbf9c7e-d5ee-4073-912d-1a6921e510bc",
   "metadata": {},
   "outputs": [
    {
     "name": "stdout",
     "output_type": "stream",
     "text": [
      "The value of the call is 6.04 and the value of the put is 10.68 !\n",
      "The put call parity is respected\n"
     ]
    }
   ],
   "source": [
    "def call_put(S,Dq,K,Dr,d1,d2):\n",
    "    N=norm.cdf\n",
    "    call=S*Dq*N(d1)-K*Dr*N(d2)\n",
    "    put=K*Dr*N(-d2)-S*Dq*N(-d1)\n",
    "    return call,put\n",
    "\n",
    "call,put = call_put(S,Dq,K,Dr,d1,d2)\n",
    "print('The value of the call is {} and the value of the put is {} !'.format(round(call,2),round(put,2)))\n",
    "\n",
    "if (call-put)-(S*Dq-K*Dr)<1e-10:\n",
    "    print('The put call parity is respected')\n",
    "else:\n",
    "    print('The put call parity is violated')"
   ]
  },
  {
   "cell_type": "code",
   "execution_count": 9,
   "id": "30a62134-5353-4344-8530-daf25d3d434f",
   "metadata": {},
   "outputs": [
    {
     "name": "stdout",
     "output_type": "stream",
     "text": [
      "The greeks value for delta_c,delta_p,gamma,vega,theta_c,theta_p,rho_c,rho_p,dividend_rho_c,dividend_rho_p are 0.45, -0.55, 0.02, 39.58, -5.9, -0.67, 38.92, -65.71, -44.96, 55.04 !\n"
     ]
    }
   ],
   "source": [
    "def greeks (Dq,d1,S,vol,T,Dr,d2,r,K,q):\n",
    "    phi=norm.pdf\n",
    "    N=norm.cdf\n",
    "    delta_c=Dq*N(d1)\n",
    "    delta_p=Dq*(N(d1)-1)\n",
    "    gamma=(Dq*phi(d1))/(S*vol*np.sqrt(T))\n",
    "    vega=S*Dq*phi(d1)*np.sqrt(T)\n",
    "    theta_c=-((S*Dq*phi(d1)*vol)/(2*np.sqrt(T)))-r*K*Dr*N(d2)+q*S*Dq*N(d1)\n",
    "    theta_p=-((S*Dq*phi(d1)*vol)/(2*np.sqrt(T)))+r*K*Dr*N(-d2)-q*S*Dq*N(-d1)\n",
    "    rho_c=K*T*Dr*N(d2)\n",
    "    rho_p=-K*T*Dr*N(-d2)\n",
    "    dividend_rho_c=-T*S*Dq*N(d1)\n",
    "    dividend_rho_p=T*S*Dq*N(-d1)\n",
    "    return delta_c,delta_p,gamma,vega,theta_c,theta_p,rho_c,rho_p,dividend_rho_c,dividend_rho_p\n",
    "\n",
    "delta_c,delta_p,gamma,vega,theta_c,theta_p,rho_c,rho_p,dividend_rho_c,dividend_rho_p=greeks(Dq,d1,S,vol,T,Dr,d2,r,K,q)\n",
    "print('The greeks value for delta_c,delta_p,gamma,vega,theta_c,theta_p,rho_c,rho_p,dividend_rho_c,dividend_rho_p are {}, {}, {}, {}, {}, {}, {}, {}, {}, {} !'.format(round(delta_c,2),round(delta_p,2),round(gamma,2),round(vega,2),round(theta_c,2),round(theta_p,2),round(rho_c,2),round(rho_p,2),round(dividend_rho_c,2),round(dividend_rho_p,2)))"
   ]
  },
  {
   "cell_type": "code",
   "execution_count": 12,
   "id": "348a5b78-6073-4d21-96d7-e88e8beb7dc0",
   "metadata": {},
   "outputs": [],
   "source": [
    "greeks_val = {\n",
    "    \"delta_c\": delta_c,\n",
    "    \"delta_p\": delta_p,\n",
    "    \"gamma\": gamma,\n",
    "    \"vega\": vega,\n",
    "    \"theta_c\": theta_c,\n",
    "    \"theta_p\": theta_p,\n",
    "    \"rho_c\": rho_c,\n",
    "    \"rho_p\": rho_p,\n",
    "    \"dividend_rho_c\": dividend_rho_c,\n",
    "    \"dividend_rho_p\": dividend_rho_p\n",
    "}"
   ]
  },
  {
   "cell_type": "code",
   "execution_count": 11,
   "id": "531a3226-e4a2-4122-924f-5b132d76ae26",
   "metadata": {},
   "outputs": [
    {
     "name": "stdin",
     "output_type": "stream",
     "text": [
      "The underlying equal $ 100\n",
      "The exercice price equal $ 110\n",
      "The period equal $ 1\n",
      "The riskfree rate equal $ 0.02\n",
      "The yield equal $ 1\n",
      "The volatility equal $ 0.2\n"
     ]
    },
    {
     "name": "stdout",
     "output_type": "stream",
     "text": [
      "The formulas for d2 and d1 are correct.\n",
      "The formulas for d2 and d1 are correct.\n",
      "The put call parity is respected\n",
      "The formulas for d2 and d1 are correct.\n",
      "The value of the call is 0.0 and the value of the put is 71.03 !\n",
      "The greeks value for delta_c,delta_p,gamma,vega are 0.0, -0.37, 0.0, 0.0 !\n"
     ]
    }
   ],
   "source": [
    "def get_inputs():\n",
    "    S = float(input('The underlying equal $'))\n",
    "    K = float(input('The exercice price equal $'))\n",
    "    T = float(input('The period equal $'))\n",
    "    r = float(input('The riskfree rate equal $'))\n",
    "    q = float(input('The yield equal $'))\n",
    "    vol = float(input('The volatility equal $'))\n",
    "    return S, K, T, r, q, vol\n",
    "\n",
    "def Dr_Dq_F(S, K, T, r, q, vol):\n",
    "    Dr = np.exp(-r*T)\n",
    "    Dq = np.exp(-q*T)\n",
    "    F  = S*np.exp(r)\n",
    "    return Dr, Dq, F\n",
    "\n",
    "def d1_d2(S, K, T, r, q, vol):\n",
    "    d1 = (np.log(S/K) + (r-q+0.5*vol**2)*T) / (vol*np.sqrt(T))\n",
    "    d2 = d1 - vol*np.sqrt(T)\n",
    "    if d2-d1-vol*np.sqrt(T)<1e-10:\n",
    "        print('The formulas for d2 and d1 are correct.')\n",
    "    else:\n",
    "        print('The formulas for d2 and d1 are incorrect.')  \n",
    "    return d1, d2\n",
    "\n",
    "def call_put(S, K, T, r, q, vol):\n",
    "    Dr, Dq, _ = Dr_Dq_F(S, K, T, r, q, vol)\n",
    "    d1, d2 = d1_d2(S, K, T, r, q, vol)\n",
    "    N = norm.cdf\n",
    "    call = S*Dq*N(d1) - K*Dr*N(d2)\n",
    "    put  = K*Dr*N(-d2) - S*Dq*N(-d1)\n",
    "\n",
    "    if (call-put)-(S*Dq-K*Dr)<1e-10:\n",
    "        print('The put call parity is respected')\n",
    "    else:\n",
    "        print('The put call parity is violated')\n",
    "    return call, put\n",
    "\n",
    "def greeks(S, K, T, r, q, vol):\n",
    "    Dr, Dq, F = Dr_Dq_F(S, K, T, r, q, vol)\n",
    "    d1, d2 = d1_d2(S, K, T, r, q, vol)\n",
    "    phi, N = norm.pdf, norm.cdf\n",
    "    delta_c = Dq*N(d1)\n",
    "    delta_p = Dq*(N(d1)-1)\n",
    "    gamma   = (Dq*phi(d1))/(S*vol*np.sqrt(T))\n",
    "    vega    = S*Dq*phi(d1)*np.sqrt(T)\n",
    "    return delta_c, delta_p, gamma, vega\n",
    "\n",
    "S, K, T, r, q, vol = get_inputs()\n",
    "Dr,Dq,F = Dr_Dq_F(S, K, T, r, q, vol)\n",
    "d1,d2 = d1_d2(S, K, T, r, q, vol)\n",
    "call,put = call_put(S, K, T, r, q, vol)\n",
    "delta_c,delta_p,gamma,vega=greeks(S, K, T, r, q, vol)\n",
    "print('The value of the call is {} and the value of the put is {} !'.format(round(call,2),round(put,2)))\n",
    "print('The greeks value for delta_c,delta_p,gamma,vega are {}, {}, {}, {} !'.format(round(delta_c,2),round(delta_p,2),round(gamma,2),round(vega,2)))"
   ]
  },
  {
   "cell_type": "code",
   "execution_count": null,
   "id": "fef3bc4f-db7e-462e-928b-6d1e91d9fd4f",
   "metadata": {},
   "outputs": [],
   "source": []
  }
 ],
 "metadata": {
  "kernelspec": {
   "display_name": "anaconda-panel-2023.05-py310",
   "language": "python",
   "name": "conda-env-anaconda-panel-2023.05-py310-py"
  },
  "language_info": {
   "codemirror_mode": {
    "name": "ipython",
    "version": 3
   },
   "file_extension": ".py",
   "mimetype": "text/x-python",
   "name": "python",
   "nbconvert_exporter": "python",
   "pygments_lexer": "ipython3",
   "version": "3.11.5"
  }
 },
 "nbformat": 4,
 "nbformat_minor": 5
}
